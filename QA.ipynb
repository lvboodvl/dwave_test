{
 "cells": [
  {
   "cell_type": "code",
   "execution_count": 1,
   "metadata": {
    "ExecuteTime": {
     "end_time": "2020-07-31T07:35:57.258036Z",
     "start_time": "2020-07-31T07:35:56.910643Z"
    }
   },
   "outputs": [],
   "source": [
    "import dwavebinarycsp\n",
    "import dimod\n",
    "import neal\n",
    "import numpy as np"
   ]
  },
  {
   "cell_type": "code",
   "execution_count": 8,
   "metadata": {
    "ExecuteTime": {
     "end_time": "2020-07-31T06:26:15.816040Z",
     "start_time": "2020-07-31T06:26:15.791629Z"
    }
   },
   "outputs": [
    {
     "data": {
      "text/plain": [
       "False"
      ]
     },
     "execution_count": 8,
     "metadata": {},
     "output_type": "execute_result"
    }
   ],
   "source": [
    "import neal\n",
    "solver = neal.SimulatedAnnealingSampler()\n",
    "sampleset = solver.sample_ising(\n",
    "    {'a': -10.5, 'b': 1.22}, {('a', 'b'): -1.735}, num_reads=100)\n",
    "sampleset.first.sample[\"a\"] == sampleset.first.sample[\"b\"] == -1"
   ]
  },
  {
   "cell_type": "code",
   "execution_count": 9,
   "metadata": {
    "ExecuteTime": {
     "end_time": "2020-07-31T07:48:10.676719Z",
     "start_time": "2020-07-31T07:48:10.668411Z"
    }
   },
   "outputs": [],
   "source": [
    "def create_linear(vector):\n",
    "    N = len(vector)\n",
    "    linear_coeff = {}\n",
    "    for k in range(N):\n",
    "        key = 'x' + str(k+1)\n",
    "        value = vector[k]\n",
    "        linear_coeff[key] = value\n",
    "    return linear_coeff"
   ]
  },
  {
   "cell_type": "code",
   "execution_count": 71,
   "metadata": {
    "ExecuteTime": {
     "end_time": "2020-07-31T09:37:23.212357Z",
     "start_time": "2020-07-31T09:37:23.202277Z"
    }
   },
   "outputs": [],
   "source": [
    "def create_quadratic(array):\n",
    "    N, _ = np.shape(array)\n",
    "    quadratic_coeff = {}\n",
    "    for i in range(N):\n",
    "        for j in range(i):\n",
    "            key = ('x' + str(i+1) , 'x' + str(j+1))\n",
    "            vaule = array[i][j]\n",
    "            quadratic_coeff[key] = vaule\n",
    "    return quadratic_coeff"
   ]
  },
  {
   "cell_type": "code",
   "execution_count": 84,
   "metadata": {
    "ExecuteTime": {
     "end_time": "2020-07-31T10:41:55.358360Z",
     "start_time": "2020-07-31T10:41:55.349399Z"
    }
   },
   "outputs": [
    {
     "name": "stdout",
     "output_type": "stream",
     "text": [
      "{'x1': 1.313908489779249, 'x2': 0.021568587014796133, 'x3': 0.6964958106440572, 'x4': -0.7848938123697269, 'x5': -1.3845482733953005}\n",
      "{('x2', 'x1'): 1.3506573220100624, ('x3', 'x1'): -1.0592711700863569, ('x3', 'x2'): -0.671945275881151, ('x4', 'x1'): 0.13050603772055805, ('x4', 'x2'): -0.42621558379935826, ('x4', 'x3'): 0.6245396102608163, ('x5', 'x1'): -0.5435148875729505, ('x5', 'x2'): 2.116224615066441, ('x5', 'x3'): 1.8431301767464507, ('x5', 'x4'): -0.8351859624642974}\n"
     ]
    }
   ],
   "source": [
    "Linear = create_linear(np.random.randn(5))\n",
    "Quad = create_quadratic(np.random.randn(5, 5))\n",
    "print(Linear)\n",
    "print(Quad)"
   ]
  },
  {
   "cell_type": "code",
   "execution_count": 85,
   "metadata": {
    "ExecuteTime": {
     "end_time": "2020-07-31T10:42:05.742512Z",
     "start_time": "2020-07-31T10:42:05.738431Z"
    }
   },
   "outputs": [],
   "source": [
    "import dimod\n",
    "bqm = dimod.BinaryQuadraticModel(Linear, Quad, 0, 'BINARY')"
   ]
  },
  {
   "cell_type": "code",
   "execution_count": 86,
   "metadata": {
    "ExecuteTime": {
     "end_time": "2020-07-31T10:42:16.138556Z",
     "start_time": "2020-07-31T10:42:16.129173Z"
    }
   },
   "outputs": [
    {
     "name": "stdout",
     "output_type": "stream",
     "text": [
      "   x1 x2 x3 x4 x5   energy num_oc.\n",
      "16  0  0  0  1  1 -3.004628       1\n",
      "17  1  0  0  1  1 -2.103728       1\n",
      "31  0  0  0  0  1 -1.384548       1\n",
      "19  0  1  0  1  1 -1.29305       1\n",
      "12  0  1  0  1  0 -1.189541       1\n",
      "15  0  0  0  1  0 -0.784894       1\n",
      "30  1  0  0  0  1 -0.614155       1\n",
      "11  0  1  1  1  0 -0.540451       1\n",
      "0   0  0  0  0  0      0.0       1\n",
      "22  1  0  1  1  1 0.001166       1\n",
      "3   0  1  0  0  0 0.021569       1\n",
      "4   0  1  1  0  0 0.046119       1\n",
      "23  0  0  1  1  1 0.159538       1\n",
      "8   0  0  1  1  0 0.536142       1\n",
      "14  1  0  0  1  0 0.659521       1\n",
      "7   0  0  1  0  0 0.696496       1\n",
      "28  0  1  0  0  1 0.753245       1\n",
      "25  1  0  1  0  1   0.8662       1\n",
      "9   1  0  1  1  0 0.921285       1\n",
      "6   1  0  1  0  0 0.951133       1\n",
      "18  1  1  0  1  1 0.958507       1\n",
      "24  0  0  1  0  1 1.155078       1\n",
      "10  1  1  1  1  0  1.19535       1\n",
      "20  0  1  1  1  1  1.19917       1\n",
      "1   1  0  0  0  0 1.313908       1\n",
      "13  1  1  0  1  0 1.605531       1\n",
      "5   1  1  1  0  0 1.651414       1\n",
      "21  1  1  1  1  1 2.391456       1\n",
      "27  0  1  1  0  1 2.620926       1\n",
      "2   1  1  0  0  0 2.686134       1\n",
      "29  1  1  0  0  1 2.874296       1\n",
      "26  1  1  1  0  1 3.682705       1\n",
      "['BINARY', 32 rows, 32 samples, 5 variables]\n"
     ]
    }
   ],
   "source": [
    "from dimod.reference.samplers import ExactSolver\n",
    "sampler = ExactSolver()\n",
    "response = sampler.sample(bqm)\n",
    "print(response)"
   ]
  },
  {
   "cell_type": "code",
   "execution_count": 82,
   "metadata": {
    "ExecuteTime": {
     "end_time": "2020-07-31T10:31:06.723069Z",
     "start_time": "2020-07-31T10:31:03.616944Z"
    }
   },
   "outputs": [
    {
     "data": {
      "text/plain": [
       "[Solver(id='DW_2000Q_6')]"
      ]
     },
     "execution_count": 82,
     "metadata": {},
     "output_type": "execute_result"
    }
   ],
   "source": [
    "from dwave.cloud import Client\n",
    "client = Client.from_config(\n",
    "    token='')\n",
    "client.get_solvers()"
   ]
  },
  {
   "cell_type": "code",
   "execution_count": 90,
   "metadata": {
    "ExecuteTime": {
     "end_time": "2020-07-31T10:46:58.737939Z",
     "start_time": "2020-07-31T10:46:55.672703Z"
    }
   },
   "outputs": [
    {
     "name": "stdout",
     "output_type": "stream",
     "text": [
      "  x1 x2 x3 x4 x5    energy num_oc. chain_.\n",
      "0  0  0  0  1  1 -3.004628     994     0.0\n",
      "1  1  0  0  1  1 -2.103728       4     0.0\n",
      "2  0  0  0  0  1 -1.384548       1     0.0\n",
      "3  1  0  1  1  1  0.001166       1     0.0\n",
      "['BINARY', 4 rows, 1000 samples, 5 variables]\n"
     ]
    }
   ],
   "source": [
    "from dwave.system import DWaveSampler, EmbeddingComposite\n",
    "sampler = EmbeddingComposite(DWaveSampler())\n",
    "sampleset = sampler.sample(bqm, num_reads=1000)\n",
    "print(sampleset)   # doctest: +SKIP"
   ]
  },
  {
   "cell_type": "code",
   "execution_count": null,
   "metadata": {},
   "outputs": [],
   "source": []
  }
 ],
 "metadata": {
  "kernelspec": {
   "display_name": "Python 3",
   "language": "python",
   "name": "python3"
  },
  "language_info": {
   "codemirror_mode": {
    "name": "ipython",
    "version": 3
   },
   "file_extension": ".py",
   "mimetype": "text/x-python",
   "name": "python",
   "nbconvert_exporter": "python",
   "pygments_lexer": "ipython3",
   "version": "3.6.9"
  },
  "toc": {
   "base_numbering": 1,
   "nav_menu": {},
   "number_sections": true,
   "sideBar": true,
   "skip_h1_title": false,
   "title_cell": "Table of Contents",
   "title_sidebar": "Contents",
   "toc_cell": false,
   "toc_position": {},
   "toc_section_display": true,
   "toc_window_display": false
  },
  "varInspector": {
   "cols": {
    "lenName": 16,
    "lenType": 16,
    "lenVar": 40
   },
   "kernels_config": {
    "python": {
     "delete_cmd_postfix": "",
     "delete_cmd_prefix": "del ",
     "library": "var_list.py",
     "varRefreshCmd": "print(var_dic_list())"
    },
    "r": {
     "delete_cmd_postfix": ") ",
     "delete_cmd_prefix": "rm(",
     "library": "var_list.r",
     "varRefreshCmd": "cat(var_dic_list()) "
    }
   },
   "position": {
    "height": "455px",
    "left": "1550px",
    "right": "20px",
    "top": "119px",
    "width": "350px"
   },
   "types_to_exclude": [
    "module",
    "function",
    "builtin_function_or_method",
    "instance",
    "_Feature"
   ],
   "window_display": true
  }
 },
 "nbformat": 4,
 "nbformat_minor": 4
}
