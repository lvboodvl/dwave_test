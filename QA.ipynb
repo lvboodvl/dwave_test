{
 "cells": [
  {
   "cell_type": "code",
   "execution_count": 1,
   "metadata": {
    "ExecuteTime": {
     "end_time": "2020-08-05T05:31:47.144169Z",
     "start_time": "2020-08-05T05:31:45.143184Z"
    }
   },
   "outputs": [],
   "source": [
    "import dwavebinarycsp\n",
    "import dimod\n",
    "import neal\n",
    "import numpy as np"
   ]
  },
  {
   "cell_type": "code",
   "execution_count": 2,
   "metadata": {
    "ExecuteTime": {
     "end_time": "2020-08-05T05:31:57.359380Z",
     "start_time": "2020-08-05T05:31:57.351326Z"
    }
   },
   "outputs": [],
   "source": [
    "def create_linear(vector):\n",
    "    N = len(vector)\n",
    "    linear_coeff = {}\n",
    "    for k in range(N):\n",
    "        key = 'x' + str(k+1)\n",
    "        value = vector[k]\n",
    "        linear_coeff[key] = value\n",
    "    return linear_coeff"
   ]
  },
  {
   "cell_type": "code",
   "execution_count": 3,
   "metadata": {
    "ExecuteTime": {
     "end_time": "2020-08-05T05:31:59.731059Z",
     "start_time": "2020-08-05T05:31:59.721246Z"
    }
   },
   "outputs": [],
   "source": [
    "def create_quadratic(array):\n",
    "    N, _ = np.shape(array)\n",
    "    quadratic_coeff = {}\n",
    "    for i in range(N):\n",
    "        for j in range(i):\n",
    "            key = ('x' + str(i+1) , 'x' + str(j+1))\n",
    "            vaule = array[i][j]\n",
    "            quadratic_coeff[key] = vaule\n",
    "    return quadratic_coeff"
   ]
  },
  {
   "cell_type": "code",
   "execution_count": 9,
   "metadata": {
    "ExecuteTime": {
     "end_time": "2020-08-05T05:53:24.351491Z",
     "start_time": "2020-08-05T05:53:23.026272Z"
    }
   },
   "outputs": [],
   "source": [
    "v = np.loadtxt('value1000.txt')\n",
    "# v = [1, 2, 3, 4]\n",
    "N = len(v)\n",
    "vector = np.random.randn(N)\n",
    "for k in range(N):\n",
    "    vector[k] = 4.0 * (v[k]**2 - v[k] * np.sum(v))\n",
    "array = np.zeros((N, N))\n",
    "for i in range(N):\n",
    "    for j in range(N):\n",
    "        array[i][j] = 8.0*v[i]*v[j]\n",
    "bias = np.sum(v)**2"
   ]
  },
  {
   "cell_type": "code",
   "execution_count": 10,
   "metadata": {
    "ExecuteTime": {
     "end_time": "2020-08-05T05:53:29.073897Z",
     "start_time": "2020-08-05T05:53:28.173874Z"
    }
   },
   "outputs": [
    {
     "name": "stdout",
     "output_type": "stream",
     "text": [
      "116170825.2879295\n"
     ]
    }
   ],
   "source": [
    "Linear = create_linear(vector)\n",
    "Quad = create_quadratic(array)\n",
    "#print(Linear)\n",
    "#print(Quad)\n",
    "print(bias)"
   ]
  },
  {
   "cell_type": "code",
   "execution_count": 11,
   "metadata": {
    "ExecuteTime": {
     "end_time": "2020-08-05T05:53:36.101843Z",
     "start_time": "2020-08-05T05:53:34.239699Z"
    }
   },
   "outputs": [
    {
     "data": {
      "text/plain": [
       "1000"
      ]
     },
     "execution_count": 11,
     "metadata": {},
     "output_type": "execute_result"
    }
   ],
   "source": [
    "import dimod\n",
    "bqm = dimod.BinaryQuadraticModel(Linear, Quad, bias, 'BINARY')\n",
    "len(bqm)"
   ]
  },
  {
   "cell_type": "markdown",
   "metadata": {},
   "source": [
    "run simulator"
   ]
  },
  {
   "cell_type": "code",
   "execution_count": 30,
   "metadata": {
    "ExecuteTime": {
     "end_time": "2020-08-05T01:34:58.859751Z",
     "start_time": "2020-08-05T01:34:58.844025Z"
    }
   },
   "outputs": [
    {
     "name": "stdout",
     "output_type": "stream",
     "text": [
      "   x1 x2 x3 x4 energy num_oc.\n",
      "4   0  1  1  0    0.0       1\n",
      "14  1  0  0  1    0.0       1\n",
      "5   1  1  1  0    4.0       1\n",
      "6   1  0  1  0    4.0       1\n",
      "12  0  1  0  1    4.0       1\n",
      "15  0  0  0  1    4.0       1\n",
      "2   1  1  0  0   16.0       1\n",
      "7   0  0  1  0   16.0       1\n",
      "8   0  0  1  1   16.0       1\n",
      "13  1  1  0  1   16.0       1\n",
      "3   0  1  0  0   36.0       1\n",
      "9   1  0  1  1   36.0       1\n",
      "1   1  0  0  0   64.0       1\n",
      "11  0  1  1  1   64.0       1\n",
      "0   0  0  0  0  100.0       1\n",
      "10  1  1  1  1  100.0       1\n",
      "['BINARY', 16 rows, 16 samples, 4 variables]\n"
     ]
    }
   ],
   "source": [
    "'''\n",
    "run under local simulator with solver ExactSovler\n",
    "'''\n",
    "from dimod.reference.samplers import ExactSolver\n",
    "sampler = ExactSolver()\n",
    "response = sampler.sample(bqm)\n",
    "print(response)"
   ]
  },
  {
   "cell_type": "code",
   "execution_count": 12,
   "metadata": {
    "ExecuteTime": {
     "end_time": "2020-08-05T05:53:49.092700Z",
     "start_time": "2020-08-05T05:53:44.032372Z"
    }
   },
   "outputs": [
    {
     "data": {
      "text/plain": [
       "[StructuredSolver(id='DW_2000Q_6')]"
      ]
     },
     "execution_count": 12,
     "metadata": {},
     "output_type": "execute_result"
    }
   ],
   "source": [
    "from dwave.cloud import Client\n",
    "client = Client.from_config(\n",
    "    token='')\n",
    "client.get_solvers()"
   ]
  },
  {
   "cell_type": "code",
   "execution_count": 31,
   "metadata": {
    "ExecuteTime": {
     "end_time": "2020-08-05T01:35:14.266250Z",
     "start_time": "2020-08-05T01:35:06.680928Z"
    }
   },
   "outputs": [
    {
     "name": "stdout",
     "output_type": "stream",
     "text": [
      "  x1 x2 x3 x4 energy num_oc. chain_.\n",
      "0  1  1  0  1   16.0      50     0.5\n",
      "2  0  0  1  1   16.0       1    0.25\n",
      "3  1  1  0  1   16.0       1    0.25\n",
      "1  1  0  1  1   36.0      48     0.5\n",
      "['BINARY', 4 rows, 100 samples, 4 variables]\n"
     ]
    }
   ],
   "source": [
    "'''\n",
    "pure QA with limited scale\n",
    "'''\n",
    "from dwave.system import DWaveSampler, EmbeddingComposite\n",
    "sampler = EmbeddingComposite(DWaveSampler())\n",
    "sampleset = sampler.sample(bqm, num_reads=100)\n",
    "print(sampleset)   # doctest: +SKIP"
   ]
  },
  {
   "cell_type": "code",
   "execution_count": 13,
   "metadata": {
    "ExecuteTime": {
     "end_time": "2020-08-05T06:01:42.488501Z",
     "start_time": "2020-08-05T05:54:21.586061Z"
    }
   },
   "outputs": [
    {
     "data": {
      "text/plain": [
       "0.0003195266181137413"
      ]
     },
     "execution_count": 13,
     "metadata": {},
     "output_type": "execute_result"
    }
   ],
   "source": [
    "'''\n",
    "https://docs.ocean.dwavesys.com/en/stable/docs_hybrid/intro/using.html\n",
    "'''\n",
    "from hybrid.reference.kerberos import KerberosSampler\n",
    "solution = KerberosSampler().sample(bqm, max_iter=20, convergence=3)\n",
    "solution.first.energy"
   ]
  },
  {
   "cell_type": "code",
   "execution_count": 53,
   "metadata": {
    "ExecuteTime": {
     "end_time": "2020-08-05T02:53:26.642965Z",
     "start_time": "2020-08-05T02:53:26.617680Z"
    }
   },
   "outputs": [
    {
     "name": "stdout",
     "output_type": "stream",
     "text": [
      "0.0017286211270748785\n"
     ]
    }
   ],
   "source": [
    "s = solution.first.sample\n",
    "p = np.zeros(N)\n",
    "for k in range(N):\n",
    "    key = 'x'+str(k+1)\n",
    "    p[k] = 2*s[key] - 1\n",
    "Sn = np.dot(p, v)**2\n",
    "print(Sn)"
   ]
  }
 ],
 "metadata": {
  "kernelspec": {
   "display_name": "Python 3",
   "language": "python",
   "name": "python3"
  },
  "language_info": {
   "codemirror_mode": {
    "name": "ipython",
    "version": 3
   },
   "file_extension": ".py",
   "mimetype": "text/x-python",
   "name": "python",
   "nbconvert_exporter": "python",
   "pygments_lexer": "ipython3",
   "version": "3.6.9"
  },
  "toc": {
   "base_numbering": 1,
   "nav_menu": {},
   "number_sections": true,
   "sideBar": true,
   "skip_h1_title": false,
   "title_cell": "Table of Contents",
   "title_sidebar": "Contents",
   "toc_cell": false,
   "toc_position": {},
   "toc_section_display": true,
   "toc_window_display": false
  },
  "varInspector": {
   "cols": {
    "lenName": 16,
    "lenType": 16,
    "lenVar": 40
   },
   "kernels_config": {
    "python": {
     "delete_cmd_postfix": "",
     "delete_cmd_prefix": "del ",
     "library": "var_list.py",
     "varRefreshCmd": "print(var_dic_list())"
    },
    "r": {
     "delete_cmd_postfix": ") ",
     "delete_cmd_prefix": "rm(",
     "library": "var_list.r",
     "varRefreshCmd": "cat(var_dic_list()) "
    }
   },
   "position": {
    "height": "716px",
    "left": "1549px",
    "right": "20px",
    "top": "119px",
    "width": "350px"
   },
   "types_to_exclude": [
    "module",
    "function",
    "builtin_function_or_method",
    "instance",
    "_Feature"
   ],
   "window_display": true
  }
 },
 "nbformat": 4,
 "nbformat_minor": 4
}
