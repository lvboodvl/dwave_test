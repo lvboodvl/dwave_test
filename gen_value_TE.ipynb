{
 "cells": [
  {
   "cell_type": "code",
   "execution_count": 1,
   "metadata": {
    "ExecuteTime": {
     "end_time": "2020-08-04T08:45:30.491993Z",
     "start_time": "2020-08-04T08:45:30.208023Z"
    }
   },
   "outputs": [],
   "source": [
    "import numpy as np\n",
    "from matplotlib import pyplot as plt"
   ]
  },
  {
   "cell_type": "code",
   "execution_count": 2,
   "metadata": {
    "ExecuteTime": {
     "end_time": "2020-08-04T08:46:02.408559Z",
     "start_time": "2020-08-04T08:46:02.391793Z"
    }
   },
   "outputs": [],
   "source": [
    "'''\n",
    "generate N Time Error(TE) for each span with length L\n",
    "10km-40km 60%\n",
    "40km-80km 30%\n",
    "80-120km 10%\n",
    "'''\n",
    "\n",
    "def gen_value_TE(N, ratio_s=0.6, ratio_m=0.3, ratio_l=0.1):\n",
    "    L1 = np.random.uniform(10, 40, int(N*ratio_s))\n",
    "    L2 = np.random.uniform(40, 80, int(N*ratio_m))\n",
    "    L3 = np.random.uniform(80, 120, int(N*ratio_l))\n",
    "    D1 = np.random.uniform(10.14, 10.47, int(N*ratio_s))/40\n",
    "    D2 = np.random.uniform(25.78, 26.47, int(N*ratio_m))/80\n",
    "    D3 = np.random.uniform(12.96, 13.33, int(N*ratio_l))/120\n",
    "    v1 = L1*D1\n",
    "    v2 = L2*D2\n",
    "    v3 = L3*D3\n",
    "    v1 = v1.reshape(1, int(N*ratio_s))\n",
    "    v2 = v2.reshape(1, int(N*ratio_m))\n",
    "    v3 = v3.reshape(1, int(N*ratio_l))\n",
    "    v = np.concatenate((v1, v2, v3), axis=1)\n",
    "    np.random.shuffle(v)\n",
    "    v = v.reshape(N)\n",
    "    return v"
   ]
  },
  {
   "cell_type": "code",
   "execution_count": 6,
   "metadata": {
    "ExecuteTime": {
     "end_time": "2020-08-04T09:47:09.919099Z",
     "start_time": "2020-08-04T09:47:09.671196Z"
    }
   },
   "outputs": [
    {
     "data": {
      "image/png": "[encoded data removed]",
      "text/plain": [
       "<Figure size 432x288 with 1 Axes>"
      ]
     },
     "metadata": {
      "needs_background": "light"
     },
     "output_type": "display_data"
    }
   ],
   "source": [
    "np.random.seed(1086)\n",
    "v = gen_value_TE(8000)\n",
    "plt.plot(v)\n",
    "plt.show()"
   ]
  },
  {
   "cell_type": "code",
   "execution_count": 7,
   "metadata": {
    "ExecuteTime": {
     "end_time": "2020-08-04T09:47:13.049735Z",
     "start_time": "2020-08-04T09:47:12.784511Z"
    }
   },
   "outputs": [
    {
     "data": {
      "image/png": "[encoded data removed]",
      "text/plain": [
       "<Figure size 432x288 with 1 Axes>"
      ]
     },
     "metadata": {
      "needs_background": "light"
     },
     "output_type": "display_data"
    }
   ],
   "source": [
    "plt.hist(v)\n",
    "plt.show()"
   ]
  },
  {
   "cell_type": "code",
   "execution_count": 8,
   "metadata": {
    "ExecuteTime": {
     "end_time": "2020-08-04T09:47:20.191314Z",
     "start_time": "2020-08-04T09:47:20.166721Z"
    }
   },
   "outputs": [
    {
     "name": "stdout",
     "output_type": "stream",
     "text": [
      "save succussful!!\n"
     ]
    }
   ],
   "source": [
    "np.savetxt('value4000.txt',v)\n",
    "print('save succussful!!')"
   ]
  },
  {
   "cell_type": "code",
   "execution_count": null,
   "metadata": {},
   "outputs": [],
   "source": []
  }
 ],
 "metadata": {
  "kernelspec": {
   "display_name": "Python 3",
   "language": "python",
   "name": "python3"
  },
  "language_info": {
   "codemirror_mode": {
    "name": "ipython",
    "version": 3
   },
   "file_extension": ".py",
   "mimetype": "text/x-python",
   "name": "python",
   "nbconvert_exporter": "python",
   "pygments_lexer": "ipython3",
   "version": "3.6.9"
  },
  "toc": {
   "base_numbering": 1,
   "nav_menu": {},
   "number_sections": true,
   "sideBar": true,
   "skip_h1_title": false,
   "title_cell": "Table of Contents",
   "title_sidebar": "Contents",
   "toc_cell": false,
   "toc_position": {},
   "toc_section_display": true,
   "toc_window_display": false
  },
  "varInspector": {
   "cols": {
    "lenName": 16,
    "lenType": 16,
    "lenVar": 40
   },
   "kernels_config": {
    "python": {
     "delete_cmd_postfix": "",
     "delete_cmd_prefix": "del ",
     "library": "var_list.py",
     "varRefreshCmd": "print(var_dic_list())"
    },
    "r": {
     "delete_cmd_postfix": ") ",
     "delete_cmd_prefix": "rm(",
     "library": "var_list.r",
     "varRefreshCmd": "cat(var_dic_list()) "
    }
   },
   "position": {
    "height": "434px",
    "left": "1550px",
    "right": "20px",
    "top": "120px",
    "width": "350px"
   },
   "types_to_exclude": [
    "module",
    "function",
    "builtin_function_or_method",
    "instance",
    "_Feature"
   ],
   "window_display": true
  }
 },
 "nbformat": 4,
 "nbformat_minor": 4
}
