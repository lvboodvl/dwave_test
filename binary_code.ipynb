{
 "cells": [
  {
   "cell_type": "code",
   "execution_count": 1,
   "metadata": {
    "ExecuteTime": {
     "end_time": "2020-07-31T01:07:10.762922Z",
     "start_time": "2020-07-31T01:07:10.757775Z"
    }
   },
   "outputs": [],
   "source": [
    "import numpy as np"
   ]
  },
  {
   "cell_type": "code",
   "execution_count": 81,
   "metadata": {
    "ExecuteTime": {
     "end_time": "2020-07-31T02:34:15.114217Z",
     "start_time": "2020-07-31T02:34:15.106600Z"
    }
   },
   "outputs": [
    {
     "name": "stdout",
     "output_type": "stream",
     "text": [
      "[0 0 0 1]\n"
     ]
    }
   ],
   "source": [
    "myarray= np.random.randint(0,2,4)\n",
    "print(myarray)"
   ]
  },
  {
   "cell_type": "markdown",
   "metadata": {},
   "source": [
    "define binary shuffle function. for example input_code = [0, 0, 1, 0], ratio = 0.25 which means 1/4 code can be reversed,\n",
    "then output_code may be[1, 0, 1, 0] or [0, 1, 1, 0] or [0, 0, 0, 0] ...."
   ]
  },
  {
   "cell_type": "code",
   "execution_count": 79,
   "metadata": {
    "ExecuteTime": {
     "end_time": "2020-07-31T02:34:06.141089Z",
     "start_time": "2020-07-31T02:34:06.130956Z"
    }
   },
   "outputs": [],
   "source": [
    "def shuffle_binary_code(array, ratio):\n",
    "    tmp = array\n",
    "    N = len(array)\n",
    "    M = round(N * ratio)\n",
    "    import random\n",
    "    indxs = random.sample(range(0, N), M)\n",
    "    for indx in indxs:\n",
    "        tmp[indx] = abs(array[indx] - 1)\n",
    "        print(indx)\n",
    "    output = tmp\n",
    "    tmp = np.zeros(N)\n",
    "    return output, indxs"
   ]
  },
  {
   "cell_type": "code",
   "execution_count": 93,
   "metadata": {
    "ExecuteTime": {
     "end_time": "2020-07-31T02:37:05.906239Z",
     "start_time": "2020-07-31T02:37:05.896288Z"
    }
   },
   "outputs": [
    {
     "name": "stdout",
     "output_type": "stream",
     "text": [
      "[0 1 1 0]\n",
      "1\n",
      "2\n",
      "3\n",
      "[0 0 0 1] [1, 2, 3]\n"
     ]
    }
   ],
   "source": [
    "myarray= np.random.randint(0,2,4)\n",
    "print(myarray)\n",
    "output, indxs = shuffle_binary_code(myarray, 0.8)\n",
    "print(output, indxs)"
   ]
  },
  {
   "cell_type": "code",
   "execution_count": null,
   "metadata": {},
   "outputs": [],
   "source": []
  }
 ],
 "metadata": {
  "kernelspec": {
   "display_name": "Python 3",
   "language": "python",
   "name": "python3"
  },
  "language_info": {
   "codemirror_mode": {
    "name": "ipython",
    "version": 3
   },
   "file_extension": ".py",
   "mimetype": "text/x-python",
   "name": "python",
   "nbconvert_exporter": "python",
   "pygments_lexer": "ipython3",
   "version": "3.6.9"
  },
  "toc": {
   "base_numbering": 1,
   "nav_menu": {},
   "number_sections": true,
   "sideBar": true,
   "skip_h1_title": false,
   "title_cell": "Table of Contents",
   "title_sidebar": "Contents",
   "toc_cell": false,
   "toc_position": {},
   "toc_section_display": true,
   "toc_window_display": false
  },
  "varInspector": {
   "cols": {
    "lenName": 16,
    "lenType": 16,
    "lenVar": 40
   },
   "kernels_config": {
    "python": {
     "delete_cmd_postfix": "",
     "delete_cmd_prefix": "del ",
     "library": "var_list.py",
     "varRefreshCmd": "print(var_dic_list())"
    },
    "r": {
     "delete_cmd_postfix": ") ",
     "delete_cmd_prefix": "rm(",
     "library": "var_list.r",
     "varRefreshCmd": "cat(var_dic_list()) "
    }
   },
   "position": {
    "height": "315px",
    "left": "1550px",
    "right": "20px",
    "top": "120px",
    "width": "350px"
   },
   "types_to_exclude": [
    "module",
    "function",
    "builtin_function_or_method",
    "instance",
    "_Feature"
   ],
   "window_display": true
  }
 },
 "nbformat": 4,
 "nbformat_minor": 4
}
