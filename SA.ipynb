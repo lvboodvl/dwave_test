{
 "cells": [
  {
   "cell_type": "code",
   "execution_count": 15,
   "metadata": {
    "ExecuteTime": {
     "end_time": "2020-07-31T02:59:02.290682Z",
     "start_time": "2020-07-31T02:59:02.277721Z"
    }
   },
   "outputs": [
    {
     "name": "stdout",
     "output_type": "stream",
     "text": [
      "[1 1 1 1 0 1 0 1 0 0] [0.24009784 0.46898267 0.65253101 0.99609322 0.57328577 0.59300265\n",
      " 0.59812852 0.70797935 0.56218099 0.97787728] 0.8972147320649168\n"
     ]
    }
   ],
   "source": [
    "from __future__ import division\n",
    "import numpy as np\n",
    "import matplotlib.pyplot as plt\n",
    "import math\n",
    "\n",
    "# define aim function\n",
    "# Orchestrator\n",
    "\n",
    "\n",
    "def aimFunction(x, coefficients):\n",
    "    y = 2.0 * np.dot(x, coefficients) - np.sum(coefficients)\n",
    "    y = y ** 2\n",
    "    return y\n",
    "\n",
    "\n",
    "x = np.random.randint(0, 2, 10)\n",
    "coefficients = np.random.rand(10)\n",
    "y = aimFunction(x, coefficients)\n",
    "print(x, coefficients, y)"
   ]
  },
  {
   "cell_type": "code",
   "execution_count": 50,
   "metadata": {
    "ExecuteTime": {
     "end_time": "2020-07-31T03:15:11.781408Z",
     "start_time": "2020-07-31T03:15:11.771631Z"
    }
   },
   "outputs": [],
   "source": [
    "def shuffle_binary_code(array, ratio):\n",
    "    tmp = array\n",
    "    N = len(array)\n",
    "    M = round(N * ratio)\n",
    "    import random\n",
    "    indxs = random.sample(range(0, N), M)\n",
    "    for indx in indxs:\n",
    "        tmp[indx] = abs(array[indx] - 1)\n",
    "#        print(indx)\n",
    "    output = tmp\n",
    "    tmp = np.zeros(N)\n",
    "    return output, indxs"
   ]
  },
  {
   "cell_type": "code",
   "execution_count": 114,
   "metadata": {
    "ExecuteTime": {
     "end_time": "2020-07-31T03:48:49.023143Z",
     "start_time": "2020-07-31T03:48:49.013496Z"
    }
   },
   "outputs": [
    {
     "name": "stdout",
     "output_type": "stream",
     "text": [
      "[0.51639863 0.57066759 0.02847423 0.17152166 0.68527698 0.83389686\n",
      " 0.30696622 0.89361308 0.72154386 0.18993895 0.55422759 0.35213195\n",
      " 0.1818924  0.78560176 0.96548322 0.23235366 0.08356143 0.60354842\n",
      " 0.72899276 0.27623883 0.68530633 0.51786747 0.04848454 0.13786924\n",
      " 0.18696743 0.9943179  0.5206654  0.57878954 0.73481906 0.54196177\n",
      " 0.91315356 0.80792015 0.40299783 0.35722434 0.95287671 0.34363158\n",
      " 0.86509982 0.83027771 0.53816145 0.92246937]\n"
     ]
    }
   ],
   "source": [
    "L = 40\n",
    "np.random.seed(101)\n",
    "coefficients = np.random.rand(L)\n",
    "print(coefficients)"
   ]
  },
  {
   "cell_type": "code",
   "execution_count": 84,
   "metadata": {
    "ExecuteTime": {
     "end_time": "2020-07-31T03:20:42.497093Z",
     "start_time": "2020-07-31T03:20:42.330924Z"
    }
   },
   "outputs": [
    {
     "name": "stdout",
     "output_type": "stream",
     "text": [
      "[0 0 1 0] 0.8230630798862163\n"
     ]
    }
   ],
   "source": [
    "T0 = 5000  # initiate temperature\n",
    "Tmin = 10  # minimum value of terperature\n",
    "L = 40\n",
    "x = np.random.randint(0, 2, L)  # initiate x\n",
    "y = 0  # initiate result\n",
    "k = 50  # times of internal circulation\n",
    "t = 0  # time\n",
    "T = T0\n",
    "while T >= Tmin:\n",
    "    for i in range(k):\n",
    "        # calculate y\n",
    "        y = aimFunction(x, coefficients)\n",
    "        # generate a new x in the neighboorhood of x by transform function\n",
    "        ratio = T * 0.5 / T0\n",
    "        xNew, _ = shuffle_binary_code(x, ratio)\n",
    "\n",
    "        yNew = aimFunction(xNew, coefficients)\n",
    "        if yNew-y < 0:\n",
    "            x = xNew\n",
    "        else:\n",
    "            # metropolis principle\n",
    "            p = math.exp(-(yNew-y)/T)\n",
    "            r = np.random.uniform(low=0, high=1)\n",
    "            if r < p:\n",
    "                x = xNew\n",
    "    t += 1\n",
    "#    print(t)\n",
    "    T = 1000/(1+t)\n",
    "\n",
    "print(x, aimFunction(x, coefficients))"
   ]
  },
  {
   "cell_type": "code",
   "execution_count": 119,
   "metadata": {
    "ExecuteTime": {
     "end_time": "2020-07-31T03:52:19.876812Z",
     "start_time": "2020-07-31T03:52:19.859575Z"
    }
   },
   "outputs": [],
   "source": [
    "def run_sa(epoch=20):\n",
    "    orchestrator = []\n",
    "    min_values = []\n",
    "    for i in range(epoch):\n",
    "        T0 = 4000  # initiate temperature\n",
    "        Tmin = 10  # minimum value of terperature\n",
    "        L = 40\n",
    "        x = np.random.randint(0, 2, L)  # initiate x\n",
    "        y = 0  # initiate result\n",
    "        k = 50  # times of internal circulation\n",
    "        t = 0  # time\n",
    "        T = T0\n",
    "        while T >= Tmin:\n",
    "            for i in range(k):\n",
    "                # calculate y\n",
    "                y = aimFunction(x, coefficients)\n",
    "                # generate a new x in the neighboorhood of x by transform function\n",
    "                ratio = T * 0.5 / T0\n",
    "                xNew, _ = shuffle_binary_code(x, ratio)\n",
    "\n",
    "                yNew = aimFunction(xNew, coefficients)\n",
    "                if yNew-y < 0:\n",
    "                    x = xNew\n",
    "                else:\n",
    "                    # metropolis principle\n",
    "                    p = math.exp(-(yNew-y)/T)\n",
    "                    r = np.random.uniform(low=0, high=1)\n",
    "                    if r < p:\n",
    "                        x = xNew\n",
    "            t += 1\n",
    "        #    print(t)\n",
    "            T = T0/(1+t)\n",
    "        orchestrator.append(x)\n",
    "        min_values.append(aimFunction(x, coefficients))\n",
    "        print(aimFunction(x, coefficients))\n",
    "    return orchestrator, min_values"
   ]
  },
  {
   "cell_type": "code",
   "execution_count": 117,
   "metadata": {
    "ExecuteTime": {
     "end_time": "2020-07-31T03:50:02.258785Z",
     "start_time": "2020-07-31T03:50:02.247604Z"
    }
   },
   "outputs": [],
   "source": [
    "# encoding:utf-8\n",
    "from __future__ import division\n",
    "\n",
    "\n",
    "import copy\n",
    "# import heapq\n",
    "\n",
    "\n",
    "\n",
    "def getListMaxNumIndex2(num_list,topk=3):\n",
    "    '''\n",
    "    获取列表中最大的前n个数值的位置索引\n",
    "    '''\n",
    "    tmp_list=copy.deepcopy(num_list)\n",
    "    tmp_list.sort()\n",
    "    max_num_index=[num_list.index(one) for one in tmp_list[::-1][:topk]]\n",
    "    min_num_index=[num_list.index(one) for one in tmp_list[:topk]]\n",
    "#    print ('max_num_index:',list(max_num_index))\n",
    "#    print ('min_num_index:',min_num_index)\n",
    "    return min_num_index"
   ]
  },
  {
   "cell_type": "code",
   "execution_count": 125,
   "metadata": {
    "ExecuteTime": {
     "end_time": "2020-07-31T04:22:17.964016Z",
     "start_time": "2020-07-31T04:22:06.666167Z"
    }
   },
   "outputs": [
    {
     "name": "stdout",
     "output_type": "stream",
     "text": [
      "1.5285258798045491\n",
      "3.2378543055012052\n",
      "10.011457446990269\n",
      "125.94021562458794\n",
      "25.58869460287475\n",
      "1.3775821702083209\n",
      "0.11805858691519229\n",
      "84.8412468305371\n",
      "7.3080267866924045\n",
      "44.33910362322613\n",
      "84.1763952119519\n",
      "1.6172426912899194\n",
      "15.390582708087784\n",
      "3.717685755221007\n",
      "72.90802430276081\n",
      "0.052097018736139\n",
      "3.0223874821506502\n",
      "15.96948147674727\n",
      "24.58028693235837\n",
      "0.005129107527418006\n",
      "total_cost time: 11.285175800323486\n",
      "max_num_index: <map object at 0x7fa130f492e8>\n",
      "min_num_index: <map object at 0x7fa130f49320>\n",
      "policy: [1 1 0 0 1 0 0 0 0 1 0 0 1 0 0 1 1 0 1 1 0 0 1 0 0 1 1 1 1 1 0 0 1 0 1 1 1\n",
      " 1 1 0]\n",
      "min_value 0.005129107527418006\n",
      "21\n"
     ]
    }
   ],
   "source": [
    "import time\n",
    "t0 = time.time()\n",
    "orchestrator, min_values = run_sa(20)\n",
    "t1 = time.time()\n",
    "print('total_cost time:', t1 - t0)\n",
    "min_num_index = getListMaxNumIndex(min_values)\n",
    "min_num_index = list(min_num_index)\n",
    "print('policy:', orchestrator[min_num_index[0]])\n",
    "print('min_value', min_values[min_num_index[0]])\n",
    "print(np.sum(orchestrator[min_num_index[0]]))"
   ]
  },
  {
   "cell_type": "code",
   "execution_count": null,
   "metadata": {},
   "outputs": [],
   "source": []
  }
 ],
 "metadata": {
  "kernelspec": {
   "display_name": "Python 3",
   "language": "python",
   "name": "python3"
  },
  "language_info": {
   "codemirror_mode": {
    "name": "ipython",
    "version": 3
   },
   "file_extension": ".py",
   "mimetype": "text/x-python",
   "name": "python",
   "nbconvert_exporter": "python",
   "pygments_lexer": "ipython3",
   "version": "3.6.9"
  },
  "toc": {
   "base_numbering": 1,
   "nav_menu": {},
   "number_sections": true,
   "sideBar": true,
   "skip_h1_title": false,
   "title_cell": "Table of Contents",
   "title_sidebar": "Contents",
   "toc_cell": false,
   "toc_position": {},
   "toc_section_display": true,
   "toc_window_display": false
  },
  "varInspector": {
   "cols": {
    "lenName": 16,
    "lenType": 16,
    "lenVar": 40
   },
   "kernels_config": {
    "python": {
     "delete_cmd_postfix": "",
     "delete_cmd_prefix": "del ",
     "library": "var_list.py",
     "varRefreshCmd": "print(var_dic_list())"
    },
    "r": {
     "delete_cmd_postfix": ") ",
     "delete_cmd_prefix": "rm(",
     "library": "var_list.r",
     "varRefreshCmd": "cat(var_dic_list()) "
    }
   },
   "position": {
    "height": "570px",
    "left": "1550px",
    "right": "20px",
    "top": "120px",
    "width": "350px"
   },
   "types_to_exclude": [
    "module",
    "function",
    "builtin_function_or_method",
    "instance",
    "_Feature"
   ],
   "window_display": true
  }
 },
 "nbformat": 4,
 "nbformat_minor": 4
}
