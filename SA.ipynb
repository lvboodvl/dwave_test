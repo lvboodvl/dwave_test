{
 "cells": [
  {
   "cell_type": "code",
   "execution_count": 1,
   "metadata": {
    "ExecuteTime": {
     "end_time": "2020-08-04T10:54:53.174229Z",
     "start_time": "2020-08-04T10:54:52.921672Z"
    }
   },
   "outputs": [
    {
     "name": "stdout",
     "output_type": "stream",
     "text": [
      "[0 0 0 1 1 1 1 1 1 1] [0.89738104 0.0891944  0.92048597 0.16597714 0.44235385 0.46481443\n",
      " 0.97915547 0.44516927 0.7588751  0.52923696] 3.528840415187282\n"
     ]
    }
   ],
   "source": [
    "from __future__ import division\n",
    "import numpy as np\n",
    "import matplotlib.pyplot as plt\n",
    "import math\n",
    "\n",
    "# define aim function\n",
    "# Orchestrator\n",
    "\n",
    "\n",
    "def aimFunction(x, coefficients):\n",
    "    y = 2.0 * np.dot(x, coefficients) - np.sum(coefficients)\n",
    "    y = y ** 2\n",
    "    return y\n",
    "\n",
    "\n",
    "x = np.random.randint(0, 2, 10)\n",
    "coefficients = np.random.rand(10)\n",
    "y = aimFunction(x, coefficients)\n",
    "print(x, coefficients, y)"
   ]
  },
  {
   "cell_type": "code",
   "execution_count": 2,
   "metadata": {
    "ExecuteTime": {
     "end_time": "2020-08-04T10:54:55.372402Z",
     "start_time": "2020-08-04T10:54:55.363317Z"
    }
   },
   "outputs": [],
   "source": [
    "# define binary code for policy of wavelength assignment\n",
    "def shuffle_binary_code(array, ratio):\n",
    "    tmp = array\n",
    "    N = len(array)\n",
    "    M = round(N * ratio)\n",
    "    import random\n",
    "    indxs = random.sample(range(0, N), M)\n",
    "    for indx in indxs:\n",
    "        tmp[indx] = abs(array[indx] - 1)\n",
    "#        print(indx)\n",
    "    output = tmp\n",
    "    tmp = np.zeros(N)\n",
    "    return output, indxs"
   ]
  },
  {
   "cell_type": "code",
   "execution_count": 31,
   "metadata": {
    "ExecuteTime": {
     "end_time": "2020-08-04T11:14:44.548965Z",
     "start_time": "2020-08-04T11:14:44.497152Z"
    }
   },
   "outputs": [
    {
     "name": "stdout",
     "output_type": "stream",
     "text": [
      "[8.38424295 9.61001224 8.31070374 4.46197666 8.27935661 7.09724246\n",
      " 6.54245359 3.54232042 7.39496936 4.94033004]\n"
     ]
    }
   ],
   "source": [
    "# load value of TE for different span of number N\n",
    "v = 0\n",
    "v = np.loadtxt('value8000.txt')\n",
    "N = len(v)\n",
    "print(v[:10])\n",
    "coefficients = v"
   ]
  },
  {
   "cell_type": "markdown",
   "metadata": {},
   "source": [
    "SA algo"
   ]
  },
  {
   "cell_type": "code",
   "execution_count": 6,
   "metadata": {
    "ExecuteTime": {
     "end_time": "2020-08-04T10:55:32.482418Z",
     "start_time": "2020-08-04T10:55:32.466080Z"
    }
   },
   "outputs": [],
   "source": [
    "def run_sa(epoch, N, v):\n",
    "    '''\n",
    "    epcoh: training epoch\n",
    "    N: number of fibre span\n",
    "    v: value vector\n",
    "    T0 initiate temperature\n",
    "    Tmin: ultimate temperature\n",
    "    k: times of internal circulation\n",
    "    '''\n",
    "    orchestrator = []\n",
    "    min_values = []\n",
    "    coefficients = v\n",
    "    for i in range(epoch):\n",
    "        T0 = 2000  # initiate temperature\n",
    "        Tmin = 10  # minimum value of terperature\n",
    "        L = N\n",
    "        x = np.random.randint(0, 2, L)  # initiate x\n",
    "        y = 0  # initiate result\n",
    "        k = 20  # times of internal circulation\n",
    "        t = 0  # time\n",
    "        T = T0\n",
    "        while T >= Tmin:\n",
    "            for i in range(k):\n",
    "                # calculate y\n",
    "                y = aimFunction(x, coefficients)\n",
    "                # generate a new x in the neighboorhood of x by transform function\n",
    "                ratio = T * 0.5 / T0\n",
    "                xNew, _ = shuffle_binary_code(x, ratio)\n",
    "\n",
    "                yNew = aimFunction(xNew, coefficients)\n",
    "                if yNew-y < 0:\n",
    "                    x = xNew\n",
    "                else:\n",
    "                    # metropolis principle\n",
    "                    p = math.exp(-(yNew-y)/T)\n",
    "                    r = np.random.uniform(low=0, high=1)\n",
    "                    if r < p:\n",
    "                        x = xNew\n",
    "            t += 1\n",
    "        #    print(t)\n",
    "            T = T0/(1+t)\n",
    "        orchestrator.append(x)\n",
    "        min_values.append(aimFunction(x, coefficients))\n",
    "        print(aimFunction(x, coefficients))\n",
    "    return orchestrator, min_values"
   ]
  },
  {
   "cell_type": "markdown",
   "metadata": {},
   "source": [
    "find top-k min-number"
   ]
  },
  {
   "cell_type": "code",
   "execution_count": 7,
   "metadata": {
    "ExecuteTime": {
     "end_time": "2020-08-04T10:55:34.828516Z",
     "start_time": "2020-08-04T10:55:34.817540Z"
    }
   },
   "outputs": [],
   "source": [
    "# encoding:utf-8\n",
    "from __future__ import division\n",
    "\n",
    "\n",
    "import copy\n",
    "# import heapq\n",
    "\n",
    "\n",
    "def getListMaxNumIndex(num_list, topk=3):\n",
    "    '''\n",
    "    获取列表中最大的前n个数值的位置索引\n",
    "    '''\n",
    "    tmp_list = copy.deepcopy(num_list)\n",
    "    tmp_list.sort()\n",
    "    max_num_index = [num_list.index(one) for one in tmp_list[::-1][:topk]]\n",
    "    min_num_index = [num_list.index(one) for one in tmp_list[:topk]]\n",
    "#    print ('max_num_index:',list(max_num_index))\n",
    "#    print ('min_num_index:',min_num_index)\n",
    "    return min_num_index"
   ]
  },
  {
   "cell_type": "code",
   "execution_count": 32,
   "metadata": {
    "ExecuteTime": {
     "end_time": "2020-08-04T11:15:18.855290Z",
     "start_time": "2020-08-04T11:14:49.858576Z"
    }
   },
   "outputs": [
    {
     "name": "stdout",
     "output_type": "stream",
     "text": [
      "1339274.6668942804\n",
      "18161.147053691515\n",
      "2116143.186737258\n",
      "1020756.934400158\n",
      "43552.0319441046\n",
      "625572.8595238513\n",
      "7494693.131828699\n",
      "719054.1950619194\n",
      "2065443.7463836572\n",
      "2007595.0184662174\n",
      "220507.8358201689\n",
      "303780.38098102395\n",
      "3489551.6918826117\n",
      "29105.899186636732\n",
      "1483421.921673553\n",
      "2075058.3210294284\n",
      "2193024.099893231\n",
      "713.6453449418744\n",
      "4394551.831196109\n",
      "866620.4657725287\n",
      "total_cost time: 28.983564376831055\n",
      "policy: [0 0 1 ... 0 1 0]\n",
      "min_value 713.6453449418744\n",
      "3965\n"
     ]
    }
   ],
   "source": [
    "'''\n",
    "training and find the minimum solution with SA\n",
    "'''\n",
    "import time\n",
    "t0 = time.time()\n",
    "orchestrator, min_values = run_sa(20, N, v)\n",
    "t1 = time.time()\n",
    "print('total_cost time:', t1 - t0)\n",
    "min_num_index = getListMaxNumIndex(min_values)\n",
    "min_num_index = list(min_num_index)\n",
    "print('policy:', orchestrator[min_num_index[0]])\n",
    "print('min_value', min_values[min_num_index[0]])\n",
    "print(np.sum(orchestrator[min_num_index[0]]))"
   ]
  }
 ],
 "metadata": {
  "kernelspec": {
   "display_name": "Python 3",
   "language": "python",
   "name": "python3"
  },
  "language_info": {
   "codemirror_mode": {
    "name": "ipython",
    "version": 3
   },
   "file_extension": ".py",
   "mimetype": "text/x-python",
   "name": "python",
   "nbconvert_exporter": "python",
   "pygments_lexer": "ipython3",
   "version": "3.6.9"
  },
  "toc": {
   "base_numbering": 1,
   "nav_menu": {},
   "number_sections": true,
   "sideBar": true,
   "skip_h1_title": false,
   "title_cell": "Table of Contents",
   "title_sidebar": "Contents",
   "toc_cell": false,
   "toc_position": {},
   "toc_section_display": true,
   "toc_window_display": false
  },
  "varInspector": {
   "cols": {
    "lenName": 16,
    "lenType": 16,
    "lenVar": 40
   },
   "kernels_config": {
    "python": {
     "delete_cmd_postfix": "",
     "delete_cmd_prefix": "del ",
     "library": "var_list.py",
     "varRefreshCmd": "print(var_dic_list())"
    },
    "r": {
     "delete_cmd_postfix": ") ",
     "delete_cmd_prefix": "rm(",
     "library": "var_list.r",
     "varRefreshCmd": "cat(var_dic_list()) "
    }
   },
   "position": {
    "height": "570px",
    "left": "1550px",
    "right": "20px",
    "top": "120px",
    "width": "350px"
   },
   "types_to_exclude": [
    "module",
    "function",
    "builtin_function_or_method",
    "instance",
    "_Feature"
   ],
   "window_display": true
  }
 },
 "nbformat": 4,
 "nbformat_minor": 4
}
